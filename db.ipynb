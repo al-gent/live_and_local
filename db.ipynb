{
 "cells": [
  {
   "cell_type": "code",
   "execution_count": 11,
   "metadata": {},
   "outputs": [
    {
     "name": "stdout",
     "output_type": "stream",
     "text": [
      "[('adamgent5', 'a-dog', 'adam.gent5@me.com', {'scope': 'playlist-modify-private playlist-modify-public user-read-email user-read-private', 'expires_in': 3600, 'token_type': 'Bearer', 'access_token': 'BQB7YRCspwkaf9M8NHH_CUzsYGUGRLXEElSRf5SxtBlnl-YRi8kM9t1iegsU8jFyCX-pUBsEP3FU0T4ph5jFjTcii5OuYIMFHrZeBAhEIaelfMqA3JQNARtarUTKk7dJO0YsC0Q8O_1SYuHs_AZx41jiaN3EwjjgLOpw_uutC4i466bKgdIx2Un_M5oIU9IeCYLu-aJyrmLsIrB99MyiW4qsyIFH5coB2qesGH4tEWgnEPRUZXX2WTn1341ug7H37b3j1dUp-aF6k90bdYyztmz9jkLKtNhPpaU', 'refresh_token': 'AQATwwUQwFPUCOUtTNLOFDh_RjPjCeNQBZiKm7sokCjNlsX10l8dNljI_ttDFP3I4LsJLCMPqBfP_FGXY-BRJ2BXCPnrvqi7gSPINStrx1WZ90h4XgoKw3bBYJnK0wqUqY4'}, True, datetime.datetime(2025, 9, 25, 21, 8, 20, 819254), datetime.datetime(2025, 9, 27, 4, 55, 20, 763400)), ('meekdylan', 'meekdylan', 'dmeek453@gmail.com', {'scope': 'playlist-modify-private playlist-modify-public user-read-email user-read-private', 'expires_in': 3600, 'token_type': 'Bearer', 'access_token': 'BQByfZUpa2iSf-1IhibafHz0tbqvgTP6LMoVwAacaGroq1ITf6LOJAIpFbHdZnDV5WZy6n_ClKSuTHxM-5krVOfoarX6vaa7zEyNgmpiJ8jOJ0cvWrs-wnHl47GFL7aeilzb-5yK4_K41AEwkYsdIw0KvB1WsZdvBwwlr1TgUOmGcjEKNCQkIAUhY2h7lGwHOs99vHzgDiX9r0uN8m2PQDh0oGSCBBuTAKG5S7GQKPkmia1iI_mGawFHpd04oa-3BJ1bufzmR7uzddcn0rlyGbv1Vn81Hajj3Ws', 'refresh_token': 'AQBxQZS73qA8jUh-6jU4rBaqj83uk9LBq5BWZigBewy5jmeDvPZNjLydr6sdPo5Vxh6Pq8T8npe9mAE6g8QXWWzuOHCmjwGYqibjFBCTaMZQCrXOhe26ADxY-hHZ6MXo-Oc'}, True, datetime.datetime(2025, 9, 27, 5, 14, 47, 727997), datetime.datetime(2025, 9, 27, 5, 14, 47, 727997))]\n"
     ]
    }
   ],
   "source": [
    "import psycopg2\n",
    "from psycopg2.extras import RealDictCursor\n",
    "import os\n",
    "# Use DATABASE_URL_UNPOOLED for direct connection\n",
    "conn = psycopg2.connect(os.getenv('DATABASE_URL_UNPOOLED'))\n",
    "cur = conn.cursor()\n",
    "q = \"\"\"SELECT * FROM users\"\"\"\n",
    "cur.execute(q)\n",
    "results = cur.fetchall()\n",
    "print(results)\n",
    "conn.close()"
   ]
  },
  {
   "cell_type": "code",
   "execution_count": 4,
   "metadata": {},
   "outputs": [
    {
     "name": "stdout",
     "output_type": "stream",
     "text": [
      "✅ Venues table created successfully!\n"
     ]
    }
   ],
   "source": [
    "\n",
    "try:\n",
    "    # Create cursor from your connection\n",
    "    cur = conn.cursor()\n",
    "    # If you need to modify the schema later, use ALTER TABLE or migrations\n",
    "    create_table_query = \"\"\"\n",
    "    CREATE TABLE venues (\n",
    "        venue_id SERIAL PRIMARY KEY,\n",
    "        name VARCHAR(255) NOT NULL,\n",
    "        address VARCHAR(500),\n",
    "        city VARCHAR(100) NOT NULL,\n",
    "        url VARCHAR(500) NOT NULL UNIQUE,\n",
    "        scraping_config JSONB NOT NULL,\n",
    "        is_active BOOLEAN DEFAULT TRUE,\n",
    "        created_at TIMESTAMP DEFAULT CURRENT_TIMESTAMP,\n",
    "        updated_at TIMESTAMP DEFAULT CURRENT_TIMESTAMP\n",
    "    );\n",
    "    \"\"\"\n",
    "\n",
    "    cur.execute(create_table_query)\n",
    "\n",
    "    # Create index on city for faster queries\n",
    "    cur.execute(\"CREATE INDEX idx_venues_city ON venues(city);\")\n",
    "\n",
    "    # Create index on is_active for filtering\n",
    "    cur.execute(\"CREATE INDEX idx_venues_active ON venues(is_active);\")\n",
    "\n",
    "    conn.commit()\n",
    "    print(\"✅ Venues table created successfully!\")\n",
    "finally:\n",
    "    conn.close()"
   ]
  },
  {
   "cell_type": "code",
   "execution_count": 10,
   "metadata": {},
   "outputs": [
    {
     "name": "stdout",
     "output_type": "stream",
     "text": [
      "✅ All venues deleted!\n"
     ]
    }
   ],
   "source": [
    "# Delete all venues so you can re-run the insert\n",
    "cur = conn.cursor()\n",
    "\n",
    "#cur.execute(\"DELETE FROM venues;\")\n",
    "\n",
    "c#onn.commit()\n",
    "#print(\"✅ All venues deleted!\")"
   ]
  },
  {
   "cell_type": "code",
   "execution_count": 11,
   "metadata": {},
   "outputs": [
    {
     "name": "stdout",
     "output_type": "stream",
     "text": [
      "✅ Inserted The Chapel (ID: 7)\n",
      "✅ Inserted The Independent (ID: 8)\n",
      "✅ Inserted Rickshaw Stop (ID: 9)\n",
      "\n",
      "🎉 All venues inserted successfully!\n"
     ]
    }
   ],
   "source": [
    "import json\n",
    "\n",
    "# Define the three venues with their scraping configs\n",
    "venues_data = [\n",
    "    {\n",
    "        \"name\": \"The Chapel\",\n",
    "        \"address\": \"777 Valencia St\",\n",
    "        \"city\": \"San Francisco\",\n",
    "        \"url\": \"https://thechapelsf.com/music/?list1page=1\",\n",
    "        \"scraping_config\": {\n",
    "            \"base_url\": \"https://thechapelsf.com/music/?list1page=1\",\n",
    "            \"pagination\": {\n",
    "                \"enabled\": True,\n",
    "                \"pages\": 2,\n",
    "                \"url_pattern\": \"https://thechapelsf.com/music/?list1page={page}\"\n",
    "            },\n",
    "            \"selectors\": {\n",
    "                \"event_container\": \"div.event-info-block\",\n",
    "                \"artist\": \"p.fs-12.headliners\",\n",
    "                \"date\": \"p.fs-18.bold.mt-1r.date\",\n",
    "                \"genre\": \"p.fs-12.genre\",\n",
    "                \"cancellation_indicator\": None\n",
    "            },\n",
    "            \"date_format\": \"%a %b %d\",\n",
    "            \"filters\": {\n",
    "                \"check_cancelled\": False\n",
    "            }\n",
    "        }\n",
    "    },\n",
    "    {\n",
    "        \"name\": \"The Independent\",\n",
    "        \"address\": \"628 Divisadero St\",\n",
    "        \"city\": \"San Francisco\",\n",
    "        \"url\": \"https://www.theindependentsf.com/\",\n",
    "        \"scraping_config\": {\n",
    "            \"base_url\": \"https://www.theindependentsf.com/\",\n",
    "            \"pagination\": {\n",
    "                \"enabled\": False\n",
    "            },\n",
    "            \"selectors\": {\n",
    "                \"event_container\": \"div.tw-section\",\n",
    "                \"artist\": \"div.tw-name > a\",\n",
    "                \"date\": \"span.tw-event-date\",\n",
    "                \"genre\": None,\n",
    "                \"cancellation_indicator\": \"div.tw-info-price-buy-tix > a:nth-of-type(2)\"\n",
    "            },\n",
    "            \"date_format\": \"%m.%d\",\n",
    "            \"filters\": {\n",
    "                \"check_cancelled\": True,\n",
    "                \"cancelled_text\": \"Cancelled\"\n",
    "            }\n",
    "        }\n",
    "    },\n",
    "    {\n",
    "        \"name\": \"Rickshaw Stop\",\n",
    "        \"address\": \"155 Fell St\",\n",
    "        \"city\": \"San Francisco\",\n",
    "        \"url\": \"https://rickshawstop.com/?list1page=1\",\n",
    "        \"scraping_config\": {\n",
    "            \"base_url\": \"https://rickshawstop.com/?list1page=1\",\n",
    "            \"pagination\": {\n",
    "                \"enabled\": True,\n",
    "                \"pages\": 2,\n",
    "                \"url_pattern\": \"https://rickshawstop.com/?list1page={page}\"\n",
    "            },\n",
    "            \"selectors\": {\n",
    "                \"event_container\": \"div.event-info-block\",\n",
    "                \"artist\": \"p.fs-12.headliners\",\n",
    "                \"date\": \"p.fs-18.bold.mt-1r.date\",\n",
    "                \"genre\": None,\n",
    "                \"cancellation_indicator\": None\n",
    "            },\n",
    "            \"date_format\": \"%a %b %d\",\n",
    "            \"filters\": {\n",
    "                \"exclude_genres\": [],\n",
    "                \"check_cancelled\": False\n",
    "            }\n",
    "        }\n",
    "    }\n",
    "]\n",
    "\n",
    "# Insert each venue\n",
    "cur = conn.cursor()\n",
    "\n",
    "insert_query = \"\"\"\n",
    "INSERT INTO venues (name, address, city, url, scraping_config)\n",
    "VALUES (%s, %s, %s, %s, %s)\n",
    "RETURNING venue_id, name;\n",
    "\"\"\"\n",
    "\n",
    "for venue in venues_data:\n",
    "    cur.execute(\n",
    "        insert_query,\n",
    "        (\n",
    "            venue[\"name\"],\n",
    "            venue[\"address\"],\n",
    "            venue[\"city\"],\n",
    "            venue[\"url\"],\n",
    "            json.dumps(venue[\"scraping_config\"])\n",
    "        )\n",
    "    )\n",
    "    venue_id, name = cur.fetchone()\n",
    "    print(f\"✅ Inserted {name} (ID: {venue_id})\")\n",
    "\n",
    "conn.commit()\n",
    "print(\"\\n🎉 All venues inserted successfully!\")"
   ]
  },
  {
   "cell_type": "code",
   "execution_count": 3,
   "metadata": {},
   "outputs": [
    {
     "name": "stdout",
     "output_type": "stream",
     "text": [
      "Users and playlists tables created successfully!\n"
     ]
    }
   ],
   "source": [
    "# Create cursor from your connection\n",
    "cur = conn.cursor()\n",
    "\n",
    "# First create users table\n",
    "create_users_table = \"\"\"\n",
    "CREATE TABLE users (\n",
    "    spotify_user_id VARCHAR(100) PRIMARY KEY,   -- Spotify's user ID\n",
    "    display_name VARCHAR(255),\n",
    "    email VARCHAR(255),\n",
    "    spotify_credentials JSONB NOT NULL,         -- Token info, refresh tokens, etc.\n",
    "    is_active BOOLEAN DEFAULT TRUE,             -- For soft deletes\n",
    "    created_at TIMESTAMP DEFAULT CURRENT_TIMESTAMP,\n",
    "    updated_at TIMESTAMP DEFAULT CURRENT_TIMESTAMP\n",
    ");\n",
    "\"\"\"\n",
    "\n",
    "# Then create playlists table with foreign key (no cascade)\n",
    "create_playlists_table = \"\"\"\n",
    "CREATE TABLE playlists (\n",
    "    playlist_id VARCHAR(50) PRIMARY KEY,        -- Spotify playlist ID\n",
    "    spotify_user_id VARCHAR(100) REFERENCES users(spotify_user_id),\n",
    "    playlist_name VARCHAR(255) NOT NULL,        -- User-customizable name\n",
    "    playlist_description TEXT,                  -- User-customizable description\n",
    "    preferred_venues INTEGER[] DEFAULT '{}',    -- Array of venue_ids for this playlist\n",
    "    preferred_genres TEXT[] DEFAULT '{}',       -- Array of genre strings\n",
    "    excluded_genres TEXT[] DEFAULT '{}',        -- Array of genres to exclude\n",
    "    songs_per_artist INTEGER DEFAULT 3,        -- Preference for this playlist\n",
    "    is_active BOOLEAN DEFAULT TRUE,             -- For soft deletes\n",
    "    playlist_updated_at TIMESTAMP,\n",
    "    created_at TIMESTAMP DEFAULT CURRENT_TIMESTAMP,\n",
    "    updated_at TIMESTAMP DEFAULT CURRENT_TIMESTAMP\n",
    ");\n",
    "\"\"\"\n",
    "\n",
    "cur.execute(create_users_table)\n",
    "cur.execute(create_playlists_table)\n",
    "\n",
    "# Create indexes\n",
    "cur.execute(\"CREATE INDEX idx_playlists_spotify_user_id ON playlists(spotify_user_id);\")\n",
    "cur.execute(\"CREATE INDEX idx_playlists_preferred_venues ON playlists USING GIN(preferred_venues);\")\n",
    "cur.execute(\"CREATE INDEX idx_users_active ON users(is_active);\")\n",
    "cur.execute(\"CREATE INDEX idx_playlists_active ON playlists(is_active);\")\n",
    "\n",
    "conn.commit()\n",
    "print(\"Users and playlists tables created successfully!\")"
   ]
  },
  {
   "cell_type": "code",
   "execution_count": 9,
   "metadata": {},
   "outputs": [
    {
     "name": "stdout",
     "output_type": "stream",
     "text": [
      "[('songs_per_artist', 'integer', '3'), ('is_active', 'boolean', 'true'), ('playlist_updated_at', 'timestamp without time zone', None), ('created_at', 'timestamp without time zone', 'CURRENT_TIMESTAMP'), ('updated_at', 'timestamp without time zone', 'CURRENT_TIMESTAMP'), ('days_ahead', 'integer', '21'), ('preferred_venues', 'ARRAY', \"'{}'::integer[]\"), ('excluded_genres', 'ARRAY', \"'{}'::text[]\"), ('spotify_user_id', 'character varying', None), ('playlist_name', 'character varying', None), ('playlist_description', 'text', None), ('preferred_genres', 'ARRAY', \"'{}'::text[]\"), ('playlist_id', 'character varying', None)]\n"
     ]
    }
   ],
   "source": [
    "conn = psycopg2.connect(os.getenv('DATABASE_URL_UNPOOLED'))\n",
    "cur = conn.cursor()\n",
    "cur.execute(\n",
    "\"\"\"ALTER TABLE playlists \n",
    "ADD COLUMN days_ahead INTEGER DEFAULT 21;\"\"\"\n",
    ")\n",
    "# Add a check constraint to ensure reasonable values\n",
    "cur.execute(\n",
    "\"\"\"\n",
    "ALTER TABLE playlists \n",
    "ADD CONSTRAINT check_days_ahead CHECK (days_ahead >= 1 AND days_ahead <= 365);\"\"\")\n",
    "conn.commit()\n",
    "cur.execute(\"SELECT column_name, data_type, column_default FROM information_schema.columns WHERE table_name = 'playlists';\")\n",
    "print(cur.fetchall())"
   ]
  },
  {
   "cell_type": "code",
   "execution_count": null,
   "metadata": {},
   "outputs": [],
   "source": []
  }
 ],
 "metadata": {
  "kernelspec": {
   "display_name": "base",
   "language": "python",
   "name": "python3"
  },
  "language_info": {
   "codemirror_mode": {
    "name": "ipython",
    "version": 3
   },
   "file_extension": ".py",
   "mimetype": "text/x-python",
   "name": "python",
   "nbconvert_exporter": "python",
   "pygments_lexer": "ipython3",
   "version": "3.11.8"
  }
 },
 "nbformat": 4,
 "nbformat_minor": 2
}
